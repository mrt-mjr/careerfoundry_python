{
 "cells": [
  {
   "cell_type": "markdown",
   "id": "7f40681f",
   "metadata": {},
   "source": [
    "## 1. importing libraries"
   ]
  },
  {
   "cell_type": "code",
   "execution_count": 1,
   "id": "9212babc",
   "metadata": {},
   "outputs": [],
   "source": [
    "import pandas as pd\n",
    "import numpy as np\n",
    "import os"
   ]
  },
  {
   "cell_type": "markdown",
   "id": "160fa7eb",
   "metadata": {},
   "source": [
    "## 2. importing datasets"
   ]
  },
  {
   "cell_type": "code",
   "execution_count": 61,
   "id": "52c30dd8",
   "metadata": {},
   "outputs": [],
   "source": [
    "# seting up folder path\n",
    "\n",
    "path = '/Users/martamajer/Desktop/Desktop - Marta’s MacBook Air - 1/09-2024 Instacart Basket Analysis/'\n",
    "\n",
    "# importing datasets\n",
    "\n",
    "ords_prods_flags = pd.read_pickle(os.path.join(path, '02 Data', 'Prepared Data', 'ords_prods_flags.pkl'))\n",
    "customers = pd.read_csv(os.path.join(path, '02 Data', 'Original Data', 'customers.csv'))"
   ]
  },
  {
   "cell_type": "code",
   "execution_count": 62,
   "id": "9620a07c",
   "metadata": {},
   "outputs": [
    {
     "data": {
      "text/html": [
       "<div>\n",
       "<style scoped>\n",
       "    .dataframe tbody tr th:only-of-type {\n",
       "        vertical-align: middle;\n",
       "    }\n",
       "\n",
       "    .dataframe tbody tr th {\n",
       "        vertical-align: top;\n",
       "    }\n",
       "\n",
       "    .dataframe thead th {\n",
       "        text-align: right;\n",
       "    }\n",
       "</style>\n",
       "<table border=\"1\" class=\"dataframe\">\n",
       "  <thead>\n",
       "    <tr style=\"text-align: right;\">\n",
       "      <th></th>\n",
       "      <th>user_id</th>\n",
       "      <th>First Name</th>\n",
       "      <th>Surnam</th>\n",
       "      <th>Gender</th>\n",
       "      <th>STATE</th>\n",
       "      <th>Age</th>\n",
       "      <th>date_joined</th>\n",
       "      <th>n_dependants</th>\n",
       "      <th>fam_status</th>\n",
       "      <th>income</th>\n",
       "    </tr>\n",
       "  </thead>\n",
       "  <tbody>\n",
       "    <tr>\n",
       "      <th>0</th>\n",
       "      <td>26711</td>\n",
       "      <td>Deborah</td>\n",
       "      <td>Esquivel</td>\n",
       "      <td>Female</td>\n",
       "      <td>Missouri</td>\n",
       "      <td>48</td>\n",
       "      <td>1/1/2017</td>\n",
       "      <td>3</td>\n",
       "      <td>married</td>\n",
       "      <td>165665</td>\n",
       "    </tr>\n",
       "    <tr>\n",
       "      <th>1</th>\n",
       "      <td>33890</td>\n",
       "      <td>Patricia</td>\n",
       "      <td>Hart</td>\n",
       "      <td>Female</td>\n",
       "      <td>New Mexico</td>\n",
       "      <td>36</td>\n",
       "      <td>1/1/2017</td>\n",
       "      <td>0</td>\n",
       "      <td>single</td>\n",
       "      <td>59285</td>\n",
       "    </tr>\n",
       "    <tr>\n",
       "      <th>2</th>\n",
       "      <td>65803</td>\n",
       "      <td>Kenneth</td>\n",
       "      <td>Farley</td>\n",
       "      <td>Male</td>\n",
       "      <td>Idaho</td>\n",
       "      <td>35</td>\n",
       "      <td>1/1/2017</td>\n",
       "      <td>2</td>\n",
       "      <td>married</td>\n",
       "      <td>99568</td>\n",
       "    </tr>\n",
       "    <tr>\n",
       "      <th>3</th>\n",
       "      <td>125935</td>\n",
       "      <td>Michelle</td>\n",
       "      <td>Hicks</td>\n",
       "      <td>Female</td>\n",
       "      <td>Iowa</td>\n",
       "      <td>40</td>\n",
       "      <td>1/1/2017</td>\n",
       "      <td>0</td>\n",
       "      <td>single</td>\n",
       "      <td>42049</td>\n",
       "    </tr>\n",
       "    <tr>\n",
       "      <th>4</th>\n",
       "      <td>130797</td>\n",
       "      <td>Ann</td>\n",
       "      <td>Gilmore</td>\n",
       "      <td>Female</td>\n",
       "      <td>Maryland</td>\n",
       "      <td>26</td>\n",
       "      <td>1/1/2017</td>\n",
       "      <td>1</td>\n",
       "      <td>married</td>\n",
       "      <td>40374</td>\n",
       "    </tr>\n",
       "  </tbody>\n",
       "</table>\n",
       "</div>"
      ],
      "text/plain": [
       "   user_id First Name    Surnam  Gender       STATE  Age date_joined  \\\n",
       "0    26711    Deborah  Esquivel  Female    Missouri   48    1/1/2017   \n",
       "1    33890   Patricia      Hart  Female  New Mexico   36    1/1/2017   \n",
       "2    65803    Kenneth    Farley    Male       Idaho   35    1/1/2017   \n",
       "3   125935   Michelle     Hicks  Female        Iowa   40    1/1/2017   \n",
       "4   130797        Ann   Gilmore  Female    Maryland   26    1/1/2017   \n",
       "\n",
       "   n_dependants fam_status  income  \n",
       "0             3    married  165665  \n",
       "1             0     single   59285  \n",
       "2             2    married   99568  \n",
       "3             0     single   42049  \n",
       "4             1    married   40374  "
      ]
     },
     "execution_count": 62,
     "metadata": {},
     "output_type": "execute_result"
    }
   ],
   "source": [
    "# checking information about the customer dataset\n",
    "\n",
    "customers.head()\n",
    "\n",
    "# customers.tail()\n",
    "# customers.shape\n",
    "# customers.info()\n",
    "# customers.dtypes \n",
    "# customers.columns\n",
    "# customers.describe()"
   ]
  },
  {
   "cell_type": "markdown",
   "id": "7a7edb32",
   "metadata": {},
   "source": [
    "## 3. data wrangling "
   ]
  },
  {
   "cell_type": "code",
   "execution_count": 63,
   "id": "379b8057",
   "metadata": {},
   "outputs": [],
   "source": [
    "# dropping date_join column from customers\n",
    "\n",
    "customers = customers.drop(columns = ['date_joined'])"
   ]
  },
  {
   "cell_type": "code",
   "execution_count": 64,
   "id": "1eeb14c4",
   "metadata": {},
   "outputs": [
    {
     "data": {
      "text/plain": [
       "First Name\n",
       "NaN        11259\n",
       "Marilyn     2213\n",
       "Barbara     2154\n",
       "Todd        2113\n",
       "Jeremy      2104\n",
       "           ...  \n",
       "Merry        197\n",
       "Eugene       197\n",
       "Garry        191\n",
       "Ned          186\n",
       "David        186\n",
       "Name: count, Length: 208, dtype: int64"
      ]
     },
     "execution_count": 64,
     "metadata": {},
     "output_type": "execute_result"
    }
   ],
   "source": [
    "# checking NaN values within customers df\n",
    "# names have a lot of NA values, around 11k\n",
    "\n",
    "customers['First Name'].value_counts(dropna = False)"
   ]
  },
  {
   "cell_type": "code",
   "execution_count": 65,
   "id": "81b66265",
   "metadata": {},
   "outputs": [],
   "source": [
    "# renaming the columns\n",
    "\n",
    "customers.rename(columns = {'First Name' : 'first_name'}, inplace = True)\n",
    "customers.rename(columns = {'Surnam' : 'surname'}, inplace = True)\n",
    "customers.rename(columns = {'Gender' : 'gender'}, inplace = True)\n",
    "customers.rename(columns = {'STATE' : 'state'}, inplace = True)\n",
    "customers.rename(columns = {'Age' : 'age'}, inplace = True)"
   ]
  },
  {
   "cell_type": "markdown",
   "id": "10226b93",
   "metadata": {},
   "source": [
    "## 4. data consistency check "
   ]
  },
  {
   "cell_type": "code",
   "execution_count": 67,
   "id": "650d48aa",
   "metadata": {},
   "outputs": [],
   "source": [
    "# changing columns with object as a datatype to string datatype to make sure we've got text in there\n",
    "\n",
    "customers[['first_name', 'surname', 'gender', 'state', 'fam_status']] = customers[['first_name', 'surname', 'gender', 'state', 'fam_status']].astype('string')"
   ]
  },
  {
   "cell_type": "code",
   "execution_count": 68,
   "id": "2c0dc135",
   "metadata": {},
   "outputs": [
    {
     "data": {
      "text/plain": [
       "user_id                  int64\n",
       "first_name      string[python]\n",
       "surname         string[python]\n",
       "gender          string[python]\n",
       "state           string[python]\n",
       "age                      int64\n",
       "n_dependants             int64\n",
       "fam_status      string[python]\n",
       "income                   int64\n",
       "dtype: object"
      ]
     },
     "execution_count": 68,
     "metadata": {},
     "output_type": "execute_result"
    }
   ],
   "source": [
    "customers.dtypes "
   ]
  },
  {
   "cell_type": "code",
   "execution_count": 69,
   "id": "98a61289",
   "metadata": {},
   "outputs": [
    {
     "data": {
      "text/plain": [
       "(206209, 9)"
      ]
     },
     "execution_count": 69,
     "metadata": {},
     "output_type": "execute_result"
    }
   ],
   "source": [
    "customers.shape"
   ]
  },
  {
   "cell_type": "code",
   "execution_count": 70,
   "id": "4a0820b7",
   "metadata": {},
   "outputs": [
    {
     "name": "stdout",
     "output_type": "stream",
     "text": [
      "first_name\n"
     ]
    }
   ],
   "source": [
    "# python syntax to check mixed type columns\n",
    "\n",
    "for col in customers.columns.tolist():\n",
    "  weird = (customers[[col]].applymap(type) != customers[[col]].iloc[0].apply(type)).any(axis = 1)\n",
    "  if len (customers[weird]) > 0:\n",
    "    print (col)"
   ]
  },
  {
   "cell_type": "code",
   "execution_count": null,
   "id": "067a773a",
   "metadata": {},
   "outputs": [],
   "source": [
    "# checking the list of missing values in first_name \n",
    "\n",
    "missing_rows = customers[customers['first_name'].isna()]\n",
    "print(missing_rows)"
   ]
  },
  {
   "cell_type": "code",
   "execution_count": 71,
   "id": "820621a1",
   "metadata": {},
   "outputs": [
    {
     "name": "stdout",
     "output_type": "stream",
     "text": [
      "product_name\n"
     ]
    }
   ],
   "source": [
    "# python syntax to check mixed type columns\n",
    "\n",
    "for col in ords_prods_flags.columns.tolist():\n",
    "  weird = (ords_prods_flags[[col]].applymap(type) != ords_prods_flags[[col]].iloc[0].apply(type)).any(axis = 1)\n",
    "  if len (ords_prods_flags[weird]) > 0:\n",
    "    print (col)"
   ]
  },
  {
   "cell_type": "code",
   "execution_count": null,
   "id": "0b2ea452",
   "metadata": {},
   "outputs": [],
   "source": [
    "# checking the list of missing values in product_name \n",
    "\n",
    "missing_rows = ords_prods_flags[ords_prods_flags['product_name'].isna()]\n",
    "print(missing_rows)"
   ]
  },
  {
   "cell_type": "markdown",
   "id": "cee4a3f4",
   "metadata": {},
   "source": [
    "### decision\n",
    "\n",
    "for customers: first_name column has a lot of NA values, around 11k, keeping it as they are \n",
    "\n",
    "for ords_prods_flags and product_name: I am deciding to keep the missing values as they are - just to put the light on we need to be more percise with the data collection moving forward, otherwise we are loosing lots of insight, given that it's around 20k of those missing values in the product_name."
   ]
  },
  {
   "cell_type": "code",
   "execution_count": 49,
   "id": "14632671",
   "metadata": {},
   "outputs": [],
   "source": [
    "# looking for full duplicates within customers\n",
    "\n",
    "customers_dups = customers[customers.duplicated()]\n",
    "customers_dups"
   ]
  },
  {
   "cell_type": "markdown",
   "id": "aa128156",
   "metadata": {},
   "source": [
    "#### observation:\n",
    "\n",
    "there is no duplicates in customers"
   ]
  },
  {
   "cell_type": "markdown",
   "id": "d325264e",
   "metadata": {},
   "source": [
    "## 5. merging datasets"
   ]
  },
  {
   "cell_type": "code",
   "execution_count": null,
   "id": "d54d378d",
   "metadata": {},
   "outputs": [],
   "source": [
    "# checking if user_id has the same data type in both df\n",
    "\n",
    "ords_prods_flags.dtypes"
   ]
  },
  {
   "cell_type": "code",
   "execution_count": null,
   "id": "fcd0ca16",
   "metadata": {},
   "outputs": [],
   "source": [
    "# checking if user_id has the same data type in both df\n",
    "\n",
    "customers.dtypes"
   ]
  },
  {
   "cell_type": "code",
   "execution_count": 78,
   "id": "49a97aad",
   "metadata": {},
   "outputs": [],
   "source": [
    "# merging datasets - left table is ords_prods_flags and I am enriching this table with customers info \n",
    "ords_prods_customers = ords_prods_flags.merge(customers, on = 'user_id', how = 'inner', indicator = True)"
   ]
  },
  {
   "cell_type": "code",
   "execution_count": 79,
   "id": "0826c6b8",
   "metadata": {},
   "outputs": [
    {
     "data": {
      "text/plain": [
       "_merge\n",
       "both          32434212\n",
       "left_only            0\n",
       "right_only           0\n",
       "Name: count, dtype: int64"
      ]
     },
     "execution_count": 79,
     "metadata": {},
     "output_type": "execute_result"
    }
   ],
   "source": [
    "# checking if merging was successful \n",
    "\n",
    "ords_prods_customers['_merge'].value_counts()"
   ]
  },
  {
   "cell_type": "code",
   "execution_count": null,
   "id": "c2412069",
   "metadata": {},
   "outputs": [],
   "source": [
    "ords_prods_customers.head()"
   ]
  },
  {
   "cell_type": "markdown",
   "id": "69817ade",
   "metadata": {},
   "source": [
    "## 6. exporting merged df to pickle format"
   ]
  },
  {
   "cell_type": "code",
   "execution_count": 82,
   "id": "19f84866",
   "metadata": {},
   "outputs": [],
   "source": [
    "# exporting data to pkl\n",
    "\n",
    "ords_prods_customers.to_pickle(os.path.join(path, '02 Data','Prepared Data', 'ords_prods_customers.pkl'))"
   ]
  }
 ],
 "metadata": {
  "kernelspec": {
   "display_name": "Python 3 (ipykernel)",
   "language": "python",
   "name": "python3"
  },
  "language_info": {
   "codemirror_mode": {
    "name": "ipython",
    "version": 3
   },
   "file_extension": ".py",
   "mimetype": "text/x-python",
   "name": "python",
   "nbconvert_exporter": "python",
   "pygments_lexer": "ipython3",
   "version": "3.11.9"
  }
 },
 "nbformat": 4,
 "nbformat_minor": 5
}
